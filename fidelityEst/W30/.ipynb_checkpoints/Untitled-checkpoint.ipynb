{
 "cells": [
  {
   "cell_type": "code",
   "execution_count": 1,
   "metadata": {
    "collapsed": true
   },
   "outputs": [],
   "source": [
    "from numpy import *\n",
    "import matplotlib.pyplot as plt"
   ]
  },
  {
   "cell_type": "code",
   "execution_count": 126,
   "metadata": {
    "collapsed": true
   },
   "outputs": [],
   "source": [
    "from matplotlib import gridspec\n",
    "from "
   ]
  },
  {
   "cell_type": "code",
   "execution_count": 2,
   "metadata": {
    "collapsed": true
   },
   "outputs": [],
   "source": [
    "%matplotlib tk"
   ]
  },
  {
   "cell_type": "code",
   "execution_count": 76,
   "metadata": {
    "collapsed": true
   },
   "outputs": [],
   "source": [
    "mother = 'L89R3/'\n",
    "daughter = 'L89R3-TrainOnResult/N30L99R4/'"
   ]
  },
  {
   "cell_type": "code",
   "execution_count": 4,
   "metadata": {
    "collapsed": true
   },
   "outputs": [],
   "source": [
    "def fid2LnDist(f):\n",
    "\treturn 0.5*log(0.5*(1-f**2))"
   ]
  },
  {
   "cell_type": "code",
   "execution_count": 50,
   "metadata": {
    "collapsed": true
   },
   "outputs": [],
   "source": [
    "cut_start = 60\n",
    "batchsize = 40"
   ]
  },
  {
   "cell_type": "code",
   "execution_count": 51,
   "metadata": {
    "collapsed": true
   },
   "outputs": [],
   "source": [
    "nlist = arange(100)*batchsize"
   ]
  },
  {
   "cell_type": "code",
   "execution_count": 153,
   "metadata": {},
   "outputs": [
    {
     "data": {
      "text/plain": [
       "89"
      ]
     },
     "execution_count": 153,
     "metadata": {},
     "output_type": "execute_result"
    }
   ],
   "source": [
    "load(mother+'real_fidelity.npy').size"
   ]
  },
  {
   "cell_type": "code",
   "execution_count": 127,
   "metadata": {
    "collapsed": true
   },
   "outputs": [],
   "source": [
    "gs = gridspec.GridSpec(2,1, height_ratios=[3,1])"
   ]
  },
  {
   "cell_type": "code",
   "execution_count": 248,
   "metadata": {
    "collapsed": true
   },
   "outputs": [],
   "source": [
    "fig, axs = plt.subplots(2,1,sharex=True,gridspec_kw={'height_ratios':[3,1]})"
   ]
  },
  {
   "cell_type": "code",
   "execution_count": 249,
   "metadata": {
    "collapsed": true
   },
   "outputs": [],
   "source": [
    "fig.subplots_adjust(hspace=0)"
   ]
  },
  {
   "cell_type": "code",
   "execution_count": 250,
   "metadata": {},
   "outputs": [],
   "source": [
    "ax = axs[0]\n",
    "\n",
    "ax.plot(log(nlist[cut_start+1:90]), fid2LnDist(load(mother+'real_fidelity.npy'))[cut_start:],c=(0,0.2,0.8,0.7),ls='--')\n",
    "ax.plot(log(nlist[cut_start+1:90]), fid2LnDist(load(daughter+'real_fidelity.npy'))[cut_start:89],c=(0,0.2,0.8,0.7),ls=':')\n",
    "\n",
    "ax.set_ylim(-3.5-0.8, -3.5)\n",
    "\n",
    "ax.set_ylabel(r'$\\ln(\\mathcal{R}_\\mathrm{real})$',color=(0,0.2,0.8,0.7))\n",
    "\n",
    "ax.yaxis.set_tick_params(labelcolor=(0,0.2,0.8,0.7))"
   ]
  },
  {
   "cell_type": "code",
   "execution_count": 258,
   "metadata": {},
   "outputs": [
    {
     "data": {
      "text/plain": [
       "[<matplotlib.text.Text at 0x246c9c802b0>,\n",
       " <matplotlib.text.Text at 0x246d0fce9b0>,\n",
       " <matplotlib.text.Text at 0x246c98c1c50>,\n",
       " <matplotlib.text.Text at 0x246d0c83e48>]"
      ]
     },
     "execution_count": 258,
     "metadata": {},
     "output_type": "execute_result"
    }
   ],
   "source": [
    "ax.set_xticks(log(arange(60,95,10)*batchsize))\n",
    "ax.set_xticklabels([r\"$\\ln(%d)$\"% nn for nn in arange(60,95,10)*batchsize])"
   ]
  },
  {
   "cell_type": "code",
   "execution_count": 246,
   "metadata": {},
   "outputs": [],
   "source": [
    "# ax.set_xlabel(r'$|\\mathcal{V}|$', labelpad=-12)"
   ]
  },
  {
   "cell_type": "code",
   "execution_count": 251,
   "metadata": {},
   "outputs": [],
   "source": [
    "ax = ax.twinx()\n",
    "\n",
    "ax.plot(log(nlist[cut_start+1:90]), fid2LnDist(load(mother+'successive_fidelity.npy'))[cut_start:], c=(0,0.8,0.2,0.7),ls='--')\n",
    "ax.plot(log(nlist[cut_start+1:90]), fid2LnDist(load(daughter+'successive_fidelity.npy'))[cut_start:89], c=(0,0.8,0.2,0.7),ls=':')\n",
    "\n",
    "ax.set_ylabel(r'$\\ln(\\mathcal{R}_\\mathrm{succ})$',color=(0,0.8,0.2,0.7))\n",
    "\n",
    "ax.set_ylim(-5.45-0.8,-5.45)\n",
    "ax.yaxis.set_tick_params(labelcolor=(0,0.8,0.2,0.7))"
   ]
  },
  {
   "cell_type": "code",
   "execution_count": 252,
   "metadata": {},
   "outputs": [
    {
     "data": {
      "text/plain": [
       "<matplotlib.legend.Legend at 0x246cd93bf60>"
      ]
     },
     "execution_count": 252,
     "metadata": {},
     "output_type": "execute_result"
    }
   ],
   "source": [
    "ax.plot([7.8,7.8], [-4.1,-4.1],color='k',ls='--',label=\"Estimation of the target state\")\n",
    "\n",
    "ax.plot([7.8,7.8], [-4.1,-4.1],color='k',ls=':',label=\"Estimation of the virtual target state\")\n",
    "\n",
    "ax.legend()"
   ]
  },
  {
   "cell_type": "code",
   "execution_count": 220,
   "metadata": {
    "collapsed": true
   },
   "outputs": [],
   "source": [
    "def realSquareOverSucc(name):\n",
    "    return exp(2*fid2LnDist(load(name+'real_fidelity.npy'))-fid2LnDist(load(name+'successive_fidelity.npy')))"
   ]
  },
  {
   "cell_type": "code",
   "execution_count": 253,
   "metadata": {},
   "outputs": [
    {
     "data": {
      "text/plain": [
       "[<matplotlib.lines.Line2D at 0x246d1076cf8>]"
      ]
     },
     "execution_count": 253,
     "metadata": {},
     "output_type": "execute_result"
    }
   ],
   "source": [
    "ax = axs[1]\n",
    "\n",
    "ax.plot(log(nlist[cut_start+1:90]), realSquareOverSucc(mother)[cut_start:], c='orange', ls='--')\n",
    "ax.plot(log(nlist[cut_start+1:90]), realSquareOverSucc(daughter)[cut_start:89], c='orange',ls=':')"
   ]
  },
  {
   "cell_type": "code",
   "execution_count": 255,
   "metadata": {},
   "outputs": [
    {
     "data": {
      "text/plain": [
       "<matplotlib.text.Text at 0x246cddb1f28>"
      ]
     },
     "execution_count": 255,
     "metadata": {},
     "output_type": "execute_result"
    }
   ],
   "source": [
    "ax.set_ylim(0,0.65)\n",
    "ax.yaxis.set_tick_params(labelcolor='orange')\n",
    "ax.set_ylabel(r'$\\mathcal{R}_\\mathrm{real}^2/\\mathcal{R}_\\mathrm{succ}$', color='orange')"
   ]
  },
  {
   "cell_type": "code",
   "execution_count": 238,
   "metadata": {},
   "outputs": [
    {
     "data": {
      "text/plain": [
       "[<matplotlib.axis.XTick at 0x246cdc50320>,\n",
       " <matplotlib.axis.XTick at 0x246cdc34c50>,\n",
       " <matplotlib.axis.XTick at 0x246cdc4db70>,\n",
       " <matplotlib.axis.XTick at 0x246c98d9668>]"
      ]
     },
     "execution_count": 238,
     "metadata": {},
     "output_type": "execute_result"
    }
   ],
   "source": [
    "ax.xaxis.set_tick_params(top='on',bottom='off',labeltop='off',labelbottom='off')\n",
    "ax.set_xticks(log(arange(60,95,10)*batchsize))"
   ]
  },
  {
   "cell_type": "code",
   "execution_count": 259,
   "metadata": {},
   "outputs": [
    {
     "data": {
      "text/plain": [
       "<matplotlib.text.Text at 0x246c9bc7710>"
      ]
     },
     "execution_count": 259,
     "metadata": {},
     "output_type": "execute_result"
    }
   ],
   "source": [
    "ax.set_xlabel(r'$\\ln|\\mathcal{V}|$')"
   ]
  },
  {
   "cell_type": "code",
   "execution_count": null,
   "metadata": {
    "collapsed": true
   },
   "outputs": [],
   "source": []
  }
 ],
 "metadata": {
  "kernelspec": {
   "display_name": "Python 3",
   "language": "python",
   "name": "python3"
  },
  "language_info": {
   "codemirror_mode": {
    "name": "ipython",
    "version": 3
   },
   "file_extension": ".py",
   "mimetype": "text/x-python",
   "name": "python",
   "nbconvert_exporter": "python",
   "pygments_lexer": "ipython3",
   "version": "3.5.3"
  }
 },
 "nbformat": 4,
 "nbformat_minor": 2
}
