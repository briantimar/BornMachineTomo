{
 "cells": [
  {
   "cell_type": "code",
   "execution_count": 1,
   "metadata": {
    "collapsed": true
   },
   "outputs": [],
   "source": [
    "from numpy import *\n",
    "import matplotlib.pyplot as plt"
   ]
  },
  {
   "cell_type": "code",
   "execution_count": 2,
   "metadata": {
    "collapsed": true
   },
   "outputs": [],
   "source": [
    "import matplotlib as mpl\n",
    "\n",
    "from cycler import cycler\n",
    "\n",
    "mpl.rcParams['axes.prop_cycle'] = cycler(color=['darkgreen','darkcyan','slateblue'])"
   ]
  },
  {
   "cell_type": "code",
   "execution_count": 3,
   "metadata": {
    "collapsed": true
   },
   "outputs": [],
   "source": [
    "from matplotlib import gridspec"
   ]
  },
  {
   "cell_type": "code",
   "execution_count": 4,
   "metadata": {
    "collapsed": true
   },
   "outputs": [],
   "source": [
    "%matplotlib tk"
   ]
  },
  {
   "cell_type": "code",
   "execution_count": 5,
   "metadata": {
    "collapsed": true
   },
   "outputs": [],
   "source": [
    "mother = 'L89R3/'\n",
    "daughter = 'L89R3-TrainOnResult/N30L99R4/'"
   ]
  },
  {
   "cell_type": "code",
   "execution_count": 6,
   "metadata": {
    "collapsed": true
   },
   "outputs": [],
   "source": [
    "def fid2LnDist(f):\n",
    "\treturn 0.5*log(0.5*(1-f**2))"
   ]
  },
  {
   "cell_type": "code",
   "execution_count": 7,
   "metadata": {
    "collapsed": true
   },
   "outputs": [],
   "source": [
    "cut_start = 60\n",
    "batchsize = 40"
   ]
  },
  {
   "cell_type": "code",
   "execution_count": 8,
   "metadata": {
    "collapsed": true
   },
   "outputs": [],
   "source": [
    "nlist = arange(100)*batchsize"
   ]
  },
  {
   "cell_type": "code",
   "execution_count": 9,
   "metadata": {},
   "outputs": [
    {
     "data": {
      "text/plain": [
       "89"
      ]
     },
     "execution_count": 9,
     "metadata": {},
     "output_type": "execute_result"
    }
   ],
   "source": [
    "load(mother+'real_fidelity.npy').size"
   ]
  },
  {
   "cell_type": "code",
   "execution_count": 10,
   "metadata": {
    "collapsed": true
   },
   "outputs": [],
   "source": [
    "gs = gridspec.GridSpec(2,1, height_ratios=[3,1])"
   ]
  },
  {
   "cell_type": "code",
   "execution_count": 47,
   "metadata": {
    "collapsed": true
   },
   "outputs": [],
   "source": [
    "fig, axs = plt.subplots(2,1,sharex=True,gridspec_kw={'height_ratios':[3,2]}, figsize=(4,4))\n",
    "\n",
    "fig.subplots_adjust(hspace=0)"
   ]
  },
  {
   "cell_type": "code",
   "execution_count": 27,
   "metadata": {
    "collapsed": true
   },
   "outputs": [],
   "source": [
    "ax = axs[0]\n",
    "\n",
    "ax.plot(log(nlist[cut_start+1:90]), fid2LnDist(load(mother+'real_fidelity.npy'))[cut_start:],c=(0,0.2,0.8,0.7),ls='--')\n",
    "ax.plot(log(nlist[cut_start+1:90]), fid2LnDist(load(daughter+'real_fidelity.npy'))[cut_start:89],c=(0,0.2,0.8,0.7),ls=':')\n",
    "\n",
    "ax.set_ylim(-3.5-0.8, -3.5)\n",
    "\n",
    "ax.set_ylabel(r'$\\ln(\\mathcal{R}_\\mathrm{real})$',color=(0,0.2,0.8,0.7))\n",
    "\n",
    "ax.yaxis.set_tick_params(labelcolor=(0,0.2,0.8,0.7))"
   ]
  },
  {
   "cell_type": "code",
   "execution_count": 48,
   "metadata": {
    "collapsed": true
   },
   "outputs": [],
   "source": [
    "ax = axs[0]\n",
    "\n",
    "ax.plot(log(nlist[cut_start+1:90]), fid2LnDist(load(mother+'real_fidelity.npy'))[cut_start:],c='darkgreen',ls='--')\n",
    "ax.plot(log(nlist[cut_start+1:90]), fid2LnDist(load(daughter+'real_fidelity.npy'))[cut_start:89],c='darkgreen',ls=':')\n",
    "\n",
    "ax.set_ylim(-3.5-0.8, -3.5)\n",
    "\n",
    "ax.set_ylabel(r'$\\ln(\\mathcal{R}_\\mathrm{real})$',color='darkgreen')\n",
    "\n",
    "ax.yaxis.set_tick_params(labelcolor='darkgreen')"
   ]
  },
  {
   "cell_type": "code",
   "execution_count": 49,
   "metadata": {
    "collapsed": true
   },
   "outputs": [],
   "source": [
    "ax = ax.twinx()\n",
    "\n",
    "ax.plot(log(nlist[cut_start+1:90]), fid2LnDist(load(mother+'successive_fidelity.npy'))[cut_start:], c='slateblue',ls='--')\n",
    "ax.plot(log(nlist[cut_start+1:90]), fid2LnDist(load(daughter+'successive_fidelity.npy'))[cut_start:89], c='slateblue',ls=':')\n",
    "\n",
    "ax.set_ylabel(r'$\\ln(\\mathcal{R}_\\mathrm{succ})$',color='slateblue')\n",
    "\n",
    "ax.set_ylim(-5.45-0.8,-5.45)\n",
    "ax.yaxis.set_tick_params(labelcolor='slateblue')"
   ]
  },
  {
   "cell_type": "code",
   "execution_count": 50,
   "metadata": {
    "collapsed": true
   },
   "outputs": [],
   "source": [
    "def realSquareOverSucc(name):\n",
    "    return exp(2*fid2LnDist(load(name+'real_fidelity.npy'))-fid2LnDist(load(name+'successive_fidelity.npy')))"
   ]
  },
  {
   "cell_type": "code",
   "execution_count": 51,
   "metadata": {},
   "outputs": [
    {
     "data": {
      "text/plain": [
       "[<matplotlib.lines.Line2D at 0x238e57d22b0>]"
      ]
     },
     "execution_count": 51,
     "metadata": {},
     "output_type": "execute_result"
    }
   ],
   "source": [
    "ax = axs[1]\n",
    "\n",
    "ax.plot(log(nlist[cut_start+1:90]), realSquareOverSucc(mother)[cut_start:], c='darkcyan', ls='--')\n",
    "ax.plot(log(nlist[cut_start+1:90]), realSquareOverSucc(daughter)[cut_start:89], c='darkcyan',ls=':')"
   ]
  },
  {
   "cell_type": "code",
   "execution_count": 52,
   "metadata": {},
   "outputs": [
    {
     "data": {
      "text/plain": [
       "<matplotlib.text.Text at 0x238e56f5080>"
      ]
     },
     "execution_count": 52,
     "metadata": {},
     "output_type": "execute_result"
    }
   ],
   "source": [
    "ax.set_ylim(0,0.65)\n",
    "ax.yaxis.set_tick_params(labelcolor='darkcyan')\n",
    "ax.set_ylabel(r'$\\mathcal{R}_\\mathrm{real}^2/\\mathcal{R}_\\mathrm{succ}$', color='darkcyan')"
   ]
  },
  {
   "cell_type": "code",
   "execution_count": 53,
   "metadata": {},
   "outputs": [
    {
     "data": {
      "text/plain": [
       "<matplotlib.legend.Legend at 0x238e56f06a0>"
      ]
     },
     "execution_count": 53,
     "metadata": {},
     "output_type": "execute_result"
    }
   ],
   "source": [
    "ax.plot([7.8,7.8], [-4.1,-4.1],color='k',ls='--',label=\"Target state tomography\")\n",
    "\n",
    "ax.plot([7.8,7.8], [-4.1,-4.1],color='k',ls=':',label=\"Virtual target state tomography\")\n",
    "\n",
    "ax.legend()"
   ]
  },
  {
   "cell_type": "code",
   "execution_count": 54,
   "metadata": {},
   "outputs": [
    {
     "data": {
      "text/plain": [
       "[<matplotlib.text.Text at 0x238e5702898>,\n",
       " <matplotlib.text.Text at 0x238e5706278>,\n",
       " <matplotlib.text.Text at 0x238e5727b70>,\n",
       " <matplotlib.text.Text at 0x238e572b710>]"
      ]
     },
     "execution_count": 54,
     "metadata": {},
     "output_type": "execute_result"
    }
   ],
   "source": [
    "ax.set_xticks(log(arange(60,95,10)*batchsize))\n",
    "ax.set_xticklabels([r\"$\\ln(%d)$\"% nn for nn in arange(60,95,10)*batchsize])"
   ]
  },
  {
   "cell_type": "code",
   "execution_count": 55,
   "metadata": {},
   "outputs": [
    {
     "data": {
      "text/plain": [
       "<matplotlib.text.Text at 0x238e56ed278>"
      ]
     },
     "execution_count": 55,
     "metadata": {},
     "output_type": "execute_result"
    }
   ],
   "source": [
    "ax.set_xlabel(r'$\\ln|\\mathcal{V}|$')"
   ]
  },
  {
   "cell_type": "code",
   "execution_count": null,
   "metadata": {
    "collapsed": true
   },
   "outputs": [],
   "source": []
  }
 ],
 "metadata": {
  "kernelspec": {
   "display_name": "Python 3",
   "language": "python",
   "name": "python3"
  },
  "language_info": {
   "codemirror_mode": {
    "name": "ipython",
    "version": 3
   },
   "file_extension": ".py",
   "mimetype": "text/x-python",
   "name": "python",
   "nbconvert_exporter": "python",
   "pygments_lexer": "ipython3",
   "version": "3.5.3"
  }
 },
 "nbformat": 4,
 "nbformat_minor": 2
}
